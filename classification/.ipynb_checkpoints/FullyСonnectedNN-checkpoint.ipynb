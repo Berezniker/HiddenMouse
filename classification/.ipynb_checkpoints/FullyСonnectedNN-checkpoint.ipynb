{
 "cells": [
  {
   "cell_type": "markdown",
   "metadata": {
    "colab_type": "text",
    "id": "GXJlTU_82goy"
   },
   "source": [
    "## CUSTOMIZATION\n",
    "---"
   ]
  },
  {
   "cell_type": "code",
   "execution_count": 0,
   "metadata": {
    "colab": {
     "base_uri": "https://localhost:8080/",
     "height": 34
    },
    "colab_type": "code",
    "id": "tsJvzTXc2ZqX",
    "outputId": "ab7b3656-9d44-4da9-d2b8-df6063630b44"
   },
   "outputs": [
    {
     "data": {
      "text/plain": [
       "'/device:GPU:0'"
      ]
     },
     "execution_count": 1,
     "metadata": {
      "tags": []
     },
     "output_type": "execute_result"
    }
   ],
   "source": [
    "import tensorflow as tf\n",
    "tf.test.gpu_device_name()\n",
    "# подключить GPU: Runtime -> Change runtime type -> Hardware accelerator: GPU\n",
    "# вывouyод: '/device:GPU:0'"
   ]
  },
  {
   "cell_type": "code",
   "execution_count": 0,
   "metadata": {
    "colab": {},
    "colab_type": "code",
    "id": "hhpfF8Si2hnz"
   },
   "outputs": [],
   "source": [
    "from google.colab import drive\n",
    "drive.mount('/content/gdrive', force_remount=True)\n",
    "# монтируем гугл диск"
   ]
  },
  {
   "cell_type": "code",
   "execution_count": 0,
   "metadata": {
    "colab": {
     "base_uri": "https://localhost:8080/",
     "height": 34
    },
    "colab_type": "code",
    "id": "5-vdOD0k2soZ",
    "outputId": "b7f9359e-08bb-4c8c-d637-aafdc13edbd0"
   },
   "outputs": [
    {
     "name": "stdout",
     "output_type": "stream",
     "text": [
      "dataset  gdrive  sample_data\n"
     ]
    }
   ],
   "source": [
    "# копируем и разархивируем файлы в colab\n",
    "! cp /content/gdrive/'My Drive'/Mouse/dataset.zip . # тут точка!\n",
    "! unzip -q dataset\n",
    "! rm dataset.zip\n",
    "! ls"
   ]
  },
  {
   "cell_type": "markdown",
   "metadata": {
    "colab_type": "text",
    "id": "CixxBLpm3EgT"
   },
   "source": [
    "### import\n",
    "---"
   ]
  },
  {
   "cell_type": "code",
   "execution_count": 0,
   "metadata": {
    "colab": {},
    "colab_type": "code",
    "id": "vJHyJmI926db"
   },
   "outputs": [],
   "source": [
    "from tensorflow.keras.models import Sequential, Model, save_model, load_model\n",
    "from tensorflow.keras.layers import (Dense, BatchNormalization, Dropout,\n",
    "                                     ReLU, ELU, Softmax)\n",
    "from tensorflow.keras.optimizers import Adam\n",
    "from tensorflow.keras.metrics import AUC\n",
    "from tensorflow.keras.utils import plot_model\n",
    "from tensorflow.keras.callbacks import ModelCheckpoint, CSVLogger\n",
    "import tensorflow.keras.backend as K\n",
    "import matplotlib.pyplot as plt\n",
    "import pandas as pd\n",
    "import numpy as np\n",
    "import glob\n",
    "import os"
   ]
  },
  {
   "cell_type": "markdown",
   "metadata": {
    "colab_type": "text",
    "id": "winuTR7V3mIX"
   },
   "source": [
    "### global\n",
    "---\n"
   ]
  },
  {
   "cell_type": "code",
   "execution_count": 0,
   "metadata": {
    "colab": {},
    "colab_type": "code",
    "id": "ZHQ7LR6L3d5Q"
   },
   "outputs": [],
   "source": [
    "N_EXPERIMENT = 1\n",
    "\n",
    "MODEL_NAME = f'{N_EXPERIMENT}_mouse_model'\n",
    "WEIGHT_NAME = f'{N_EXPERIMENT}_mouse_weight'\n",
    "LOG_NAME = f'{N_EXPERIMENT}_training_log.csv'\n",
    "GDRIVE_PATH = f'./gdrive/My Drive/Mouse/{N_EXPERIMENT}'\n",
    "CHECKPOINT_PATH = f'{GDRIVE_PATH}/{WEIGHT_NAME}''_{epoch:03d}_loss-{loss:.3f}_valloss-{val_loss:.3f}.h5'\n",
    "N_FEATURES = (79,)\n",
    "BATCH_SIZE = 8"
   ]
  },
  {
   "cell_type": "markdown",
   "metadata": {
    "colab_type": "text",
    "id": "G5tBlnKxv-NP"
   },
   "source": [
    "### load data\n",
    "---"
   ]
  },
  {
   "cell_type": "code",
   "execution_count": 0,
   "metadata": {
    "colab": {},
    "colab_type": "code",
    "id": "LExk97j1wAqT"
   },
   "outputs": [],
   "source": [
    "def load_data(dataset: str,\n",
    "              username: str,\n",
    "              session: str,\n",
    "              mode: str,\n",
    "              legal: bool = True) -> np.array:\n",
    "    if legal:\n",
    "        path = f\"./dataset/{dataset}/{mode}_features/{username}/{session}\"\n",
    "        X = pd.read_csv(path, sep=',', header=None).values\n",
    "    else:\n",
    "        X = None\n",
    "        for path in glob.glob(f\"./dataset/{dataset}/{mode}_features/user*\"):\n",
    "            if os.path.basename(path) == username:\n",
    "                continue\n",
    "            session_path = os.path.join(path, session)\n",
    "            features = pd.read_csv(session_path, sep=',', header=None).values\n",
    "            X = np.vstack((X, features)) if X is not None else features\n",
    "    return X"
   ]
  },
  {
   "cell_type": "code",
   "execution_count": 0,
   "metadata": {
    "colab": {},
    "colab_type": "code",
    "id": "NYtwUjGFHRZq"
   },
   "outputs": [],
   "source": [
    "DATASET = 'BALABIT'\n",
    "USERNAME = 'user07'\n",
    "SESSION = 'session_all_quantile_4'"
   ]
  },
  {
   "cell_type": "code",
   "execution_count": 0,
   "metadata": {
    "colab": {
     "base_uri": "https://localhost:8080/",
     "height": 34
    },
    "colab_type": "code",
    "id": "aUA0zccmzmSF",
    "outputId": "f7463d5b-b069-4199-f4ac-eda9893dcd83"
   },
   "outputs": [
    {
     "data": {
      "text/plain": [
       "(47310, 79)"
      ]
     },
     "execution_count": 8,
     "metadata": {
      "tags": []
     },
     "output_type": "execute_result"
    }
   ],
   "source": [
    "X_legal = load_data(DATASET, USERNAME, SESSION, 'train')\n",
    "X_illegal = load_data(DATASET, USERNAME, SESSION, 'train', legal=False)\n",
    "X = np.vstack((X_legal, X_illegal))\n",
    "N_FEATURES = (X.shape[1], )\n",
    "X.shape"
   ]
  },
  {
   "cell_type": "code",
   "execution_count": 0,
   "metadata": {
    "colab": {},
    "colab_type": "code",
    "id": "wT76XesXqLmS"
   },
   "outputs": [],
   "source": [
    "# for Fully Сonnected NN\n",
    "y = np.zeros((X.shape[0], 2))\n",
    "y[:X_legal.shape[1], 0] = 1\n",
    "y[-X_illegal.shape[1]:, 1] = 1"
   ]
  },
  {
   "cell_type": "code",
   "execution_count": 0,
   "metadata": {
    "colab": {},
    "colab_type": "code",
    "id": "suRHiEIMqjGR"
   },
   "outputs": [],
   "source": [
    "# for autoencoder\n",
    "# y = X.copy()"
   ]
  },
  {
   "cell_type": "markdown",
   "metadata": {
    "colab_type": "text",
    "id": "0Hdvu1wNrP4y"
   },
   "source": [
    "---"
   ]
  },
  {
   "cell_type": "code",
   "execution_count": 0,
   "metadata": {
    "colab": {
     "base_uri": "https://localhost:8080/",
     "height": 34
    },
    "colab_type": "code",
    "id": "t0a-4MWyrRCz",
    "outputId": "026fc4ad-a863-4c79-8254-08cff0b61817"
   },
   "outputs": [
    {
     "data": {
      "text/plain": [
       "(44807, 79)"
      ]
     },
     "execution_count": 11,
     "metadata": {
      "tags": []
     },
     "output_type": "execute_result"
    }
   ],
   "source": [
    "X_test_legal = load_data(DATASET, USERNAME, SESSION, 'test')\n",
    "X_test_illegal = load_data(DATASET, USERNAME, SESSION, 'test', legal=False)\n",
    "X_test = np.vstack((X_test_legal, X_test_illegal))\n",
    "N_FEATURES = (X_test.shape[1], )\n",
    "\n",
    "y_test = np.zeros((X_test.shape[0], 2))\n",
    "y_test[:X_test_legal.shape[1], 0] = 1\n",
    "y_test[-X_test_illegal.shape[1]:, 1] = 1\n",
    "\n",
    "X_test.shape"
   ]
  },
  {
   "cell_type": "markdown",
   "metadata": {
    "colab_type": "text",
    "id": "wFs7r8fqDuh4"
   },
   "source": [
    "### model\n",
    "---"
   ]
  },
  {
   "cell_type": "code",
   "execution_count": 0,
   "metadata": {
    "colab": {},
    "colab_type": "code",
    "id": "degDDEAGDwCE"
   },
   "outputs": [],
   "source": [
    "def get_model(input_shape): # \"FullyСonnected\"\n",
    "    model = Sequential()\n",
    "    model.add(Dense(units=64, input_shape=input_shape, activation=ReLU()))\n",
    "    model.add(Dropout(rate=0.4))\n",
    "    model.add(Dense(units=32, activation=ReLU()))\n",
    "    model.add(Dropout(rate=0.4))\n",
    "    model.add(Dense(units=16, activation=ReLU()))\n",
    "    model.add(Dropout(rate=0.4))\n",
    "    model.add(Dense(units=8, activation=ReLU()))\n",
    "    model.add(Dropout(rate=0.4))\n",
    "    model.add(Dense(units=2, activation=Softmax()))\n",
    "\n",
    "    return model"
   ]
  },
  {
   "cell_type": "code",
   "execution_count": 0,
   "metadata": {
    "colab": {},
    "colab_type": "code",
    "id": "PPTrRDeS-Yns"
   },
   "outputs": [],
   "source": [
    "def get_model(input_shape):\n",
    "    model = Sequential()\n",
    "    model.add(Dense(units=32, input_shape=input_shape, activation=ReLU()))\n",
    "    model.add(Dropout(rate=0.5))\n",
    "    model.add(Dense(units=2, activation=Softmax()))\n",
    "\n",
    "    return model"
   ]
  },
  {
   "cell_type": "code",
   "execution_count": 0,
   "metadata": {
    "colab": {},
    "colab_type": "code",
    "id": "1492Fn6nMp7D"
   },
   "outputs": [],
   "source": [
    "def get_model(input_shape):\n",
    "    model = Sequential()\n",
    "    model.add(BatchNormalization(input_shape=input_shape))\n",
    "    model.add(Dense(units=64, activation=ELU()))\n",
    "    model.add(Dense(units=64, activation=ELU()))\n",
    "    model.add(BatchNormalization())\n",
    "    model.add(Dense(units=32, activation=ELU()))\n",
    "    model.add(Dense(units=32, activation=ELU()))\n",
    "    model.add(BatchNormalization())\n",
    "    model.add(Dense(units=16, activation=ELU()))\n",
    "    model.add(Dense(units=16, activation=ELU()))\n",
    "    model.add(BatchNormalization())\n",
    "    model.add(Dense(units=8, activation=ELU()))\n",
    "    model.add(Dense(units=8, activation=ELU()))\n",
    "    model.add(BatchNormalization())\n",
    "    model.add(Dense(units=4, activation=ELU()))\n",
    "    model.add(Dense(units=4, activation=ELU()))\n",
    "    model.add(BatchNormalization())\n",
    "    model.add(Dense(units=2, activation=Softmax()))\n",
    "\n",
    "    return model"
   ]
  },
  {
   "cell_type": "code",
   "execution_count": 0,
   "metadata": {
    "colab": {},
    "colab_type": "code",
    "id": "XmLdxSA_IeDe"
   },
   "outputs": [],
   "source": [
    "model = get_model(N_FEATURES)\n",
    "model.summary()"
   ]
  },
  {
   "cell_type": "markdown",
   "metadata": {
    "colab_type": "text",
    "id": "LwojiGM51gD3"
   },
   "source": [
    "### Custom metrics\n",
    "---"
   ]
  },
  {
   "cell_type": "code",
   "execution_count": 0,
   "metadata": {
    "colab": {},
    "colab_type": "code",
    "id": "CN_IKGKM1jCT"
   },
   "outputs": [],
   "source": [
    "def FAR(y_true, y_pred):\n",
    "    y_true = K.argmax(y_true, axis=1)\n",
    "    y_pred = K.argmax(y_pred, axis=1)\n",
    "    return K.sum(K.cast(y_pred[y_true == 1] == 0, 'int8')) / y_pred.shape[0]\n",
    "\n",
    "def FRR(y_true, y_pred):\n",
    "    y_true = K.argmax(y_true, axis=1)\n",
    "    y_pred = K.argmax(y_pred, axis=1)\n",
    "    return K.sum(K.cast(y_pred[y_true == 0] == 1, 'int8')) / y_pred.shape[0]"
   ]
  },
  {
   "cell_type": "markdown",
   "metadata": {
    "colab_type": "text",
    "id": "_8X4euc21r00"
   },
   "source": [
    "### Compile\n",
    "---"
   ]
  },
  {
   "cell_type": "code",
   "execution_count": 0,
   "metadata": {
    "colab": {},
    "colab_type": "code",
    "id": "ssVmxBZH1qMB"
   },
   "outputs": [],
   "source": [
    "model.compile(optimizer=Adam(lr=0.001),\n",
    "              loss='binary_crossentropy',\n",
    "              metrics=['mse'])"
   ]
  },
  {
   "cell_type": "markdown",
   "metadata": {
    "colab_type": "text",
    "id": "ogyAYQAY8qAB"
   },
   "source": [
    "### fit\n",
    "---"
   ]
  },
  {
   "cell_type": "code",
   "execution_count": 0,
   "metadata": {
    "colab": {},
    "colab_type": "code",
    "id": "hMUNr8QQvnZm"
   },
   "outputs": [],
   "source": [
    "# CALLBACKS\n",
    "checkpointer = ModelCheckpoint(filepath=CHECKPOINT_PATH, monitor='val_loss',\n",
    "                               verbose=1, save_best_only=True,\n",
    "                               save_weights_only=True, mode='min')\n",
    "logger = CSVLogger(LOG_NAME)"
   ]
  },
  {
   "cell_type": "code",
   "execution_count": 0,
   "metadata": {
    "colab": {},
    "colab_type": "code",
    "id": "otQvsKYk8s5g"
   },
   "outputs": [],
   "source": [
    "model.fit(X, y,\n",
    "          batch_size=64,\n",
    "          epochs=50,\n",
    "          verbose=1,\n",
    "        #   callbacks=[logger, checkpointer],\n",
    "          validation_data=(X_test, y_test),\n",
    "          shuffle=True)"
   ]
  },
  {
   "cell_type": "code",
   "execution_count": 0,
   "metadata": {
    "colab": {},
    "colab_type": "code",
    "id": "de5AdgysA2yr"
   },
   "outputs": [],
   "source": [
    "y_pred = model.predict(X)\n",
    "acc = np.mean(np.argmax(y_pred, axis=1) == np.argmax(y, axis=1))\n",
    "FAR = np.mean( (np.argmax(y_pred, axis=1)[:X_test_legal.shape[0]]) != (np.argmax(y, axis=1)[:X_test_legal.shape[0]]) )\n",
    "FRR = np.mean( (np.argmax(y_pred, axis=1)[-X_test_illegal.shape[0]:]) != (np.argmax(y, axis=1)[-X_test_illegal.shape[0]:]) )\n",
    "print(f\"accuracy = {acc}, FAR = {FAR}, FRR = {FRR}\")"
   ]
  },
  {
   "cell_type": "code",
   "execution_count": 0,
   "metadata": {
    "colab": {},
    "colab_type": "code",
    "id": "ZaP0_DU69k6_"
   },
   "outputs": [],
   "source": [
    "y_pred = model.predict(X_test)\n",
    "acc = np.mean(np.argmax(y_pred, axis=1) == np.argmax(y_test, axis=1))\n",
    "FAR = np.mean( (np.argmax(y_pred, axis=1)[:X_test_legal.shape[0]]) != (np.argmax(y_test, axis=1)[:X_test_legal.shape[0]]) )\n",
    "FRR = np.mean( (np.argmax(y_pred, axis=1)[-X_test_illegal.shape[0]:]) != (np.argmax(y_test, axis=1)[-X_test_illegal.shape[0]:]) )\n",
    "print(f\"accuracy = {acc}, FAR = {FAR}, FRR = {FRR}\")"
   ]
  },
  {
   "cell_type": "code",
   "execution_count": 0,
   "metadata": {
    "colab": {},
    "colab_type": "code",
    "id": "D_uhp94g7Rxu"
   },
   "outputs": [],
   "source": []
  },
  {
   "cell_type": "code",
   "execution_count": 0,
   "metadata": {
    "colab": {
     "base_uri": "https://localhost:8080/",
     "height": 34
    },
    "colab_type": "code",
    "id": "NGzXD5F_7RtO",
    "outputId": "0477860f-a5e5-4901-9228-933ab554a65c"
   },
   "outputs": [
    {
     "data": {
      "text/plain": [
       "(134401, 79)"
      ]
     },
     "execution_count": 43,
     "metadata": {
      "tags": []
     },
     "output_type": "execute_result"
    }
   ],
   "source": [
    "X_test_legal = load_data('BALABIT', 'user09', 'session_all', 'test')\n",
    "X_test_illegal = load_data('BALABIT', 'user09', 'session_all', 'test', legal=False)\n",
    "X_test = np.vstack((X_test_legal, X_test_illegal))\n",
    "N_FEATURES = (X_test.shape[1], )\n",
    "\n",
    "y_test = np.zeros((X_test.shape[0], 2))\n",
    "y_test[:, 1] = 1\n",
    "\n",
    "X_test.shape"
   ]
  },
  {
   "cell_type": "code",
   "execution_count": 0,
   "metadata": {
    "colab": {},
    "colab_type": "code",
    "id": "uHSlVv8e7RrT"
   },
   "outputs": [],
   "source": [
    "y_pred = model.predict(X_test)\n",
    "acc = np.mean(np.argmax(y_pred, axis=1) == np.argmax(y_test, axis=1))\n",
    "FAR = np.mean( (np.argmax(y_pred, axis=1)[:X_test_legal.shape[0]]) != (np.argmax(y_test, axis=1)[:X_test_legal.shape[0]]) )\n",
    "FRR = np.mean( (np.argmax(y_pred, axis=1)[-X_test_illegal.shape[0]:]) != (np.argmax(y_test, axis=1)[-X_test_illegal.shape[0]:]) )\n",
    "print(f\"accuracy = {acc}, FAR = {FAR}, FRR = {FRR}\")"
   ]
  }
 ],
 "metadata": {
  "accelerator": "GPU",
  "colab": {
   "collapsed_sections": [],
   "name": "Mouse::fit.ipynb",
   "provenance": [],
   "toc_visible": true
  },
  "kernelspec": {
   "display_name": "Python 3",
   "language": "python",
   "name": "python3"
  },
  "language_info": {
   "codemirror_mode": {
    "name": "ipython",
    "version": 3
   },
   "file_extension": ".py",
   "mimetype": "text/x-python",
   "name": "python",
   "nbconvert_exporter": "python",
   "pygments_lexer": "ipython3",
   "version": "3.7.7"
  },
  "varInspector": {
   "cols": {
    "lenName": 16,
    "lenType": 16,
    "lenVar": 40
   },
   "kernels_config": {
    "python": {
     "delete_cmd_postfix": "",
     "delete_cmd_prefix": "del ",
     "library": "var_list.py",
     "varRefreshCmd": "print(var_dic_list())"
    },
    "r": {
     "delete_cmd_postfix": ") ",
     "delete_cmd_prefix": "rm(",
     "library": "var_list.r",
     "varRefreshCmd": "cat(var_dic_list()) "
    }
   },
   "types_to_exclude": [
    "module",
    "function",
    "builtin_function_or_method",
    "instance",
    "_Feature"
   ],
   "window_display": false
  }
 },
 "nbformat": 4,
 "nbformat_minor": 1
}
