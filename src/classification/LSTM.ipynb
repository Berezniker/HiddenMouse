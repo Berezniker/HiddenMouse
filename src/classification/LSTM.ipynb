{
  "nbformat": 4,
  "nbformat_minor": 0,
  "metadata": {
    "colab": {
      "name": "Mouse::LSTM.ipynb",
      "provenance": [],
      "collapsed_sections": []
    },
    "kernelspec": {
      "name": "python3",
      "display_name": "Python 3"
    },
    "accelerator": "GPU"
  },
  "cells": [
    {
      "cell_type": "markdown",
      "metadata": {
        "id": "GXJlTU_82goy",
        "colab_type": "text"
      },
      "source": [
        "## CUSTOMIZATION\n",
        "---"
      ]
    },
    {
      "cell_type": "code",
      "metadata": {
        "id": "tsJvzTXc2ZqX",
        "colab_type": "code",
        "colab": {}
      },
      "source": [
        "import tensorflow as tf\n",
        "tf.test.gpu_device_name()\n",
        "# подключить GPU: Runtime -> Change runtime type -> Hardware accelerator: GPU\n",
        "# вывouyод: '/device:GPU:0'"
      ],
      "execution_count": 0,
      "outputs": []
    },
    {
      "cell_type": "code",
      "metadata": {
        "id": "hhpfF8Si2hnz",
        "colab_type": "code",
        "colab": {}
      },
      "source": [
        "from google.colab import drive\n",
        "drive.mount('/content/gdrive', force_remount=True)\n",
        "# монтируем гугл диск"
      ],
      "execution_count": 0,
      "outputs": []
    },
    {
      "cell_type": "code",
      "metadata": {
        "id": "5-vdOD0k2soZ",
        "colab_type": "code",
        "outputId": "aa4af7fa-8b70-4cb3-b176-d16e366226c0",
        "colab": {
          "base_uri": "https://localhost:8080/",
          "height": 34
        }
      },
      "source": [
        "# копируем и разархивируем файлы в colab\n",
        "! cp /content/gdrive/'My Drive'/Mouse/dataset.zip . # тут точка!\n",
        "! unzip -q dataset\n",
        "! rm dataset.zip\n",
        "! ls"
      ],
      "execution_count": 0,
      "outputs": [
        {
          "output_type": "stream",
          "text": [
            "dataset  gdrive  sample_data\n"
          ],
          "name": "stdout"
        }
      ]
    },
    {
      "cell_type": "markdown",
      "metadata": {
        "id": "v9rxyKrdzFiV",
        "colab_type": "text"
      },
      "source": [
        "## LSTM\n",
        "---"
      ]
    },
    {
      "cell_type": "markdown",
      "metadata": {
        "id": "CixxBLpm3EgT",
        "colab_type": "text"
      },
      "source": [
        "### Libraries\n",
        "---"
      ]
    },
    {
      "cell_type": "code",
      "metadata": {
        "id": "vJHyJmI926db",
        "colab_type": "code",
        "colab": {}
      },
      "source": [
        "from tensorflow.keras.models import Sequential, Model, save_model, load_model\n",
        "from tensorflow.keras.layers import (Dense, LSTM, BatchNormalization, Dropout,\n",
        "                                     ReLU, Input)\n",
        "from tensorflow.keras.regularizers import l2\n",
        "from tensorflow.keras.optimizers import Adam\n",
        "from tensorflow.keras.losses import logcosh, mean_squared_error\n",
        "from tensorflow.keras.callbacks import ModelCheckpoint, CSVLogger\n",
        "from sklearn.preprocessing import (StandardScaler,\n",
        "                                   QuantileTransformer,\n",
        "                                   PowerTransformer)\n",
        "import matplotlib.pyplot as plt\n",
        "import pandas as pd\n",
        "import numpy as np\n",
        "import glob\n",
        "import os"
      ],
      "execution_count": 0,
      "outputs": []
    },
    {
      "cell_type": "markdown",
      "metadata": {
        "id": "winuTR7V3mIX",
        "colab_type": "text"
      },
      "source": [
        "### Global variables\n",
        "---\n"
      ]
    },
    {
      "cell_type": "code",
      "metadata": {
        "id": "ZHQ7LR6L3d5Q",
        "colab_type": "code",
        "colab": {}
      },
      "source": [
        "N_EXPERIMENT = 1\n",
        "\n",
        "MODEL_NAME = f'{N_EXPERIMENT}_mouse_model'\n",
        "WEIGHT_NAME = f'{N_EXPERIMENT}_mouse_weight'\n",
        "LOG_NAME = f'{N_EXPERIMENT}_training_log.csv'\n",
        "GDRIVE_PATH = f'./gdrive/My Drive/Mouse/{N_EXPERIMENT}'\n",
        "CHECKPOINT_PATH = f'{GDRIVE_PATH}/{WEIGHT_NAME}''_{epoch:03d}_loss-{loss:.3f}_valloss-{val_loss:.3f}.h5'\n",
        "N_FEATURES = 79\n",
        "BATCH_SIZE = 8"
      ],
      "execution_count": 0,
      "outputs": []
    },
    {
      "cell_type": "markdown",
      "metadata": {
        "id": "G5tBlnKxv-NP",
        "colab_type": "text"
      },
      "source": [
        "### Load data\n",
        "---"
      ]
    },
    {
      "cell_type": "markdown",
      "metadata": {
        "id": "LvbMd4r4CatD",
        "colab_type": "text"
      },
      "source": [
        "Option:"
      ]
    },
    {
      "cell_type": "code",
      "metadata": {
        "id": "NYtwUjGFHRZq",
        "colab_type": "code",
        "colab": {}
      },
      "source": [
        "DATASET = 'BALABIT'\n",
        "USERNAME = 'user07'\n",
        "SESSION = 'session_all'"
      ],
      "execution_count": 0,
      "outputs": []
    },
    {
      "cell_type": "markdown",
      "metadata": {
        "id": "4TMIvsP7WwJ_",
        "colab_type": "text"
      },
      "source": [
        "#### experiments"
      ]
    },
    {
      "cell_type": "code",
      "metadata": {
        "id": "LExk97j1wAqT",
        "colab_type": "code",
        "colab": {}
      },
      "source": [
        "def load_data(dataset: str,\n",
        "              username: str,\n",
        "              session: str,\n",
        "              mode: str,\n",
        "              legal: bool = True) -> np.array:\n",
        "    if legal:\n",
        "        path = f\"./dataset/{dataset}/{mode}_features/{username}/{session}\"\n",
        "        X = pd.read_csv(path, sep=',', header=None).values\n",
        "    else:\n",
        "        X = None\n",
        "        for path in glob.glob(f\"./dataset/{dataset}/{mode}_features/user*\"):\n",
        "            if os.path.basename(path) == username:\n",
        "                continue\n",
        "            session_path = os.path.join(path, session)\n",
        "            features = pd.read_csv(session_path, sep=',', header=None).values\n",
        "            X = np.vstack((X, features)) if X is not None else features\n",
        "    return X"
      ],
      "execution_count": 0,
      "outputs": []
    },
    {
      "cell_type": "markdown",
      "metadata": {
        "id": "18xUgi9eCep1",
        "colab_type": "text"
      },
      "source": [
        "Train data:"
      ]
    },
    {
      "cell_type": "code",
      "metadata": {
        "id": "aUA0zccmzmSF",
        "colab_type": "code",
        "outputId": "aa145c31-37d5-423c-98fa-db3f38ff3a67",
        "colab": {
          "base_uri": "https://localhost:8080/",
          "height": 34
        }
      },
      "source": [
        "X = load_data(DATASET, USERNAME, SESSION, 'train')\n",
        "N_FEATURES = X.shape[1]\n",
        "print(f\"Train data shape: {X.shape}\")"
      ],
      "execution_count": 0,
      "outputs": [
        {
          "output_type": "stream",
          "text": [
            "Train data shape: (3417, 79)\n"
          ],
          "name": "stdout"
        }
      ]
    },
    {
      "cell_type": "markdown",
      "metadata": {
        "id": "FCaHuiJzCgJw",
        "colab_type": "text"
      },
      "source": [
        "Validation data:"
      ]
    },
    {
      "cell_type": "code",
      "metadata": {
        "id": "t0a-4MWyrRCz",
        "colab_type": "code",
        "outputId": "67c08b63-7b85-4aeb-a27c-d01eefc92672",
        "colab": {
          "base_uri": "https://localhost:8080/",
          "height": 34
        }
      },
      "source": [
        "X_valid = load_data(DATASET, USERNAME, SESSION, 'test')\n",
        "print(f\"Validation data shape: {X_valid.shape}\")"
      ],
      "execution_count": 0,
      "outputs": [
        {
          "output_type": "stream",
          "text": [
            "Validation data shape: (3457, 79)\n"
          ],
          "name": "stdout"
        }
      ]
    },
    {
      "cell_type": "markdown",
      "metadata": {
        "id": "6ARc47-jCU4D",
        "colab_type": "text"
      },
      "source": [
        "Data preprocessing:"
      ]
    },
    {
      "cell_type": "code",
      "metadata": {
        "id": "T9YkY4SwC4Mh",
        "colab_type": "code",
        "colab": {}
      },
      "source": [
        "preprocessingFunction = StandardScaler()\n",
        "X = preprocessingFunction.fit_transform(X)\n",
        "X_valid = preprocessingFunction.transform(X_valid)"
      ],
      "execution_count": 0,
      "outputs": []
    },
    {
      "cell_type": "markdown",
      "metadata": {
        "id": "zZz_7RH7EmMW",
        "colab_type": "text"
      },
      "source": [
        "Check:"
      ]
    },
    {
      "cell_type": "code",
      "metadata": {
        "id": "p-X5czUQEo-O",
        "colab_type": "code",
        "colab": {}
      },
      "source": [
        "print(f\"Train data: mean - {X.mean():.3f}, var - {X.var():.3f}\")\n",
        "print(f\"Train data: mean - {X_valid.mean():.3f}, var - {X_valid.var():.3f}\")"
      ],
      "execution_count": 0,
      "outputs": []
    },
    {
      "cell_type": "markdown",
      "metadata": {
        "id": "acRbRNeOMTuY",
        "colab_type": "text"
      },
      "source": [
        "for LSTM:"
      ]
    },
    {
      "cell_type": "code",
      "metadata": {
        "id": "RIL1RoX-MXdC",
        "colab_type": "code",
        "colab": {}
      },
      "source": [
        "def temporalize(X, lookback):\n",
        "    output_X = list()\n",
        "    for i in range(len(X)-lookback+1):\n",
        "        output_X.append(X[i: i+lookback, :])\n",
        "    return np.squeeze(np.array(output_X))"
      ],
      "execution_count": 0,
      "outputs": []
    },
    {
      "cell_type": "code",
      "metadata": {
        "id": "0rzvlfjWRztF",
        "colab_type": "code",
        "colab": {}
      },
      "source": [
        "timesteps = 3"
      ],
      "execution_count": 0,
      "outputs": []
    },
    {
      "cell_type": "code",
      "metadata": {
        "id": "R2IGyVjTMrv4",
        "colab_type": "code",
        "outputId": "2bf946bd-0573-4d7a-c890-4b260c866fc8",
        "colab": {
          "base_uri": "https://localhost:8080/",
          "height": 50
        }
      },
      "source": [
        "X_lstm = temporalize(X, timesteps)\n",
        "print(f\"X_LSTM: (n_samples x timesteps x n_features)\\n\"\n",
        "      f\"                   {X_lstm.shape}\")"
      ],
      "execution_count": 0,
      "outputs": [
        {
          "output_type": "stream",
          "text": [
            "X_LSTM: (n_samples x timesteps x n_features)\n",
            "                   (3415, 3, 79)\n"
          ],
          "name": "stdout"
        }
      ]
    },
    {
      "cell_type": "markdown",
      "metadata": {
        "id": "8DK0MhqbRI9o",
        "colab_type": "text"
      },
      "source": [
        "Check:"
      ]
    },
    {
      "cell_type": "code",
      "metadata": {
        "id": "qRAdZGnzOY_X",
        "colab_type": "code",
        "colab": {}
      },
      "source": [
        "print(f\"X:\\n{X[:5, :3]}\\n.\\n.\\n.\\n{X[-5:, :3]}\")"
      ],
      "execution_count": 0,
      "outputs": []
    },
    {
      "cell_type": "code",
      "metadata": {
        "id": "Ar5AKqwdOm4M",
        "colab_type": "code",
        "colab": {}
      },
      "source": [
        "print(f\"X_lstm:\\n{X_lstm[:3, :, :3]}\\n.\\n.\\n.\\n{X_lstm[-3:, :, :3]}\")"
      ],
      "execution_count": 0,
      "outputs": []
    },
    {
      "cell_type": "markdown",
      "metadata": {
        "id": "4s8sCvTpW1xR",
        "colab_type": "text"
      },
      "source": [
        "#### final"
      ]
    },
    {
      "cell_type": "code",
      "metadata": {
        "id": "sIalOS-FXYBY",
        "colab_type": "code",
        "colab": {}
      },
      "source": [
        "preprocessingFunction = StandardScaler()\n",
        "timesteps = 3"
      ],
      "execution_count": 0,
      "outputs": []
    },
    {
      "cell_type": "code",
      "metadata": {
        "id": "VXL6VMQPW4FU",
        "colab_type": "code",
        "colab": {}
      },
      "source": [
        "def load_data(dataset: str,\n",
        "              username: str,\n",
        "              session: str,\n",
        "              mode: str,\n",
        "              legal: bool = True,\n",
        "              timesteps: int = 3) -> np.array:\n",
        "    if legal:\n",
        "        path = f\"./dataset/{dataset}/{mode}_features/{username}/{session}\"\n",
        "        X = pd.read_csv(path, sep=',', header=None).values\n",
        "    else:\n",
        "        X = None\n",
        "        for path in glob.glob(f\"./dataset/{dataset}/{mode}_features/user*\"):\n",
        "            if os.path.basename(path) == username:\n",
        "                continue\n",
        "            session_path = os.path.join(path, session)\n",
        "            features = pd.read_csv(session_path, sep=',', header=None).values\n",
        "            X = np.vstack((X, features)) if X is not None else features\n",
        "    \n",
        "    global preprocessingFunction\n",
        "    X = preprocessingFunction.fit_transform(X)\n",
        "    \n",
        "    X_lstm = list()\n",
        "    for i in range(len(X)-timesteps+1):\n",
        "        X_lstm.append(X[i: i+timesteps, :])\n",
        "\n",
        "    return X[:-(timesteps-1)], np.squeeze(np.array(X_lstm))"
      ],
      "execution_count": 0,
      "outputs": []
    },
    {
      "cell_type": "code",
      "metadata": {
        "id": "zazPvw8FYCU4",
        "colab_type": "code",
        "colab": {}
      },
      "source": [
        "y, X = load_data(DATASET, USERNAME, SESSION, 'train',\n",
        "              legal=True, timesteps=timesteps)\n",
        "y_valid, X_valid = load_data(DATASET, USERNAME, SESSION, 'test',\n",
        "                    legal=True, timesteps=timesteps)\n",
        "N_FEATURES = X.shape[-1]"
      ],
      "execution_count": 0,
      "outputs": []
    },
    {
      "cell_type": "markdown",
      "metadata": {
        "id": "wFs7r8fqDuh4",
        "colab_type": "text"
      },
      "source": [
        "### Model\n",
        "---"
      ]
    },
    {
      "cell_type": "code",
      "metadata": {
        "id": "degDDEAGDwCE",
        "colab_type": "code",
        "colab": {}
      },
      "source": [
        "def get_model(timesteps, n_features): # \"LSTM\"\n",
        "    model = Sequential()\n",
        "    model.add(Input(shape=(timesteps, n_features)))\n",
        "    model.add(LSTM(units=64, return_sequences=True,\n",
        "                   kernel_regularizer=l2(0.001)))\n",
        "    model.add(LSTM(units=32, return_sequences=False,\n",
        "                   kernel_regularizer=l2(0.001)))\n",
        "    model.add(Dense(units=64, activation=ReLU(),\n",
        "                    kernel_regularizer=l2(0.001)))\n",
        "    model.add(Dense(units=n_features))\n",
        "\n",
        "    return model"
      ],
      "execution_count": 0,
      "outputs": []
    },
    {
      "cell_type": "code",
      "metadata": {
        "id": "XmLdxSA_IeDe",
        "colab_type": "code",
        "outputId": "54e539b8-2e45-46e3-dc6b-e20cef552a94",
        "colab": {
          "base_uri": "https://localhost:8080/",
          "height": 286
        }
      },
      "source": [
        "model = get_model(*X.shape[1:])\n",
        "model.summary()"
      ],
      "execution_count": 0,
      "outputs": [
        {
          "output_type": "stream",
          "text": [
            "Model: \"sequential_10\"\n",
            "_________________________________________________________________\n",
            "Layer (type)                 Output Shape              Param #   \n",
            "=================================================================\n",
            "lstm_20 (LSTM)               (None, 3, 64)             36864     \n",
            "_________________________________________________________________\n",
            "lstm_21 (LSTM)               (None, 32)                12416     \n",
            "_________________________________________________________________\n",
            "dense_20 (Dense)             (None, 64)                2112      \n",
            "_________________________________________________________________\n",
            "dense_21 (Dense)             (None, 79)                5135      \n",
            "=================================================================\n",
            "Total params: 56,527\n",
            "Trainable params: 56,527\n",
            "Non-trainable params: 0\n",
            "_________________________________________________________________\n"
          ],
          "name": "stdout"
        }
      ]
    },
    {
      "cell_type": "markdown",
      "metadata": {
        "id": "_8X4euc21r00",
        "colab_type": "text"
      },
      "source": [
        "Compile:"
      ]
    },
    {
      "cell_type": "code",
      "metadata": {
        "id": "ssVmxBZH1qMB",
        "colab_type": "code",
        "colab": {}
      },
      "source": [
        "model.compile(optimizer=Adam(lr=0.001),\n",
        "              loss=logcosh,\n",
        "              metrics=[mean_squared_error]\n",
        "              )"
      ],
      "execution_count": 0,
      "outputs": []
    },
    {
      "cell_type": "markdown",
      "metadata": {
        "id": "ogyAYQAY8qAB",
        "colab_type": "text"
      },
      "source": [
        "Callbacks:"
      ]
    },
    {
      "cell_type": "code",
      "metadata": {
        "id": "hMUNr8QQvnZm",
        "colab_type": "code",
        "colab": {}
      },
      "source": [
        "checkpointer = ModelCheckpoint(filepath=CHECKPOINT_PATH, monitor='val_loss',\n",
        "                               verbose=1, save_best_only=True,\n",
        "                               save_weights_only=True, mode='min')\n",
        "logger = CSVLogger(LOG_NAME)"
      ],
      "execution_count": 0,
      "outputs": []
    },
    {
      "cell_type": "markdown",
      "metadata": {
        "id": "ak-s_0GvGFG3",
        "colab_type": "text"
      },
      "source": [
        "Fit:"
      ]
    },
    {
      "cell_type": "code",
      "metadata": {
        "id": "otQvsKYk8s5g",
        "colab_type": "code",
        "colab": {}
      },
      "source": [
        "model.fit(X, y,\n",
        "          batch_size=64,\n",
        "          epochs=1000,\n",
        "          verbose=2,\n",
        "          callbacks=[logger, checkpointer],\n",
        "          validation_data=(X_valid, y_valid),\n",
        "          shuffle=False)"
      ],
      "execution_count": 0,
      "outputs": []
    },
    {
      "cell_type": "markdown",
      "metadata": {
        "id": "6op9QjFeGTiS",
        "colab_type": "text"
      },
      "source": [
        "### Evaluate\n",
        "---"
      ]
    },
    {
      "cell_type": "markdown",
      "metadata": {
        "id": "ikQ6aUOWp8v2",
        "colab_type": "text"
      },
      "source": [
        "Load model"
      ]
    },
    {
      "cell_type": "code",
      "metadata": {
        "id": "MpjHgRvEps-8",
        "colab_type": "code",
        "colab": {}
      },
      "source": [
        "model = load_model(\"./gdrive/My Drive/Mouse/1/1_mouse_weight_952_loss-0.027_valloss-0.056.h5\")"
      ],
      "execution_count": 0,
      "outputs": []
    },
    {
      "cell_type": "code",
      "metadata": {
        "id": "B2wMx7BPnx6T",
        "colab_type": "code",
        "colab": {}
      },
      "source": [
        "y_test, X_test = load_data(DATASET, USERNAME, SESSION, 'train',\n",
        "                           legal=False, timesteps=timesteps)"
      ],
      "execution_count": 0,
      "outputs": []
    },
    {
      "cell_type": "code",
      "metadata": {
        "id": "q_pArFbBeHpy",
        "colab_type": "code",
        "colab": {}
      },
      "source": [
        "y_test_pred = model.predict(X_test)\n",
        "np.mean(((y_test - y_test_pred) ** 2)[:])"
      ],
      "execution_count": 0,
      "outputs": []
    },
    {
      "cell_type": "code",
      "metadata": {
        "id": "y141yzWNoC_M",
        "colab_type": "code",
        "colab": {}
      },
      "source": [
        "y_valid_pred = model.predict(X_valid)\n",
        "np.mean(((y_valid - y_valid_pred) ** 2)[:])"
      ],
      "execution_count": 0,
      "outputs": []
    },
    {
      "cell_type": "code",
      "metadata": {
        "id": "IVPDTZJ1olZG",
        "colab_type": "code",
        "colab": {}
      },
      "source": [
        "y_pred = model.predict(X)\n",
        "np.mean(((y - y_pred) ** 2)[:])"
      ],
      "execution_count": 0,
      "outputs": []
    }
  ]
}