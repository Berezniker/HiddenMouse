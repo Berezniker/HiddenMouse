{
  "nbformat": 4,
  "nbformat_minor": 0,
  "metadata": {
    "colab": {
      "name": "autoencoder.ipynb",
      "provenance": [],
      "toc_visible": true
    },
    "kernelspec": {
      "name": "python3",
      "display_name": "Python 3"
    },
    "accelerator": "GPU"
  },
  "cells": [
    {
      "cell_type": "markdown",
      "metadata": {
        "id": "C14ma0KfNRpF",
        "colab_type": "text"
      },
      "source": [
        "## CUSTOMIZATION\n",
        "---"
      ]
    },
    {
      "cell_type": "code",
      "metadata": {
        "id": "zFkfahENNUKf",
        "colab_type": "code",
        "outputId": "c9b43bb3-9094-4179-c9d1-ba225d8b9382",
        "colab": {
          "base_uri": "https://localhost:8080/",
          "height": 34
        }
      },
      "source": [
        "import tensorflow as tf\n",
        "tf.test.gpu_device_name()\n",
        "# подключить GPU: Runtime -> Change runtime type -> Hardware accelerator: GPU\n",
        "# вывод: '/device:GPU:0'"
      ],
      "execution_count": 0,
      "outputs": [
        {
          "output_type": "execute_result",
          "data": {
            "text/plain": [
              "'/device:GPU:0'"
            ]
          },
          "metadata": {
            "tags": []
          },
          "execution_count": 1
        }
      ]
    },
    {
      "cell_type": "code",
      "metadata": {
        "id": "GhaL78BzNUxC",
        "colab_type": "code",
        "colab": {}
      },
      "source": [
        "from google.colab import drive\n",
        "drive.mount('/content/gdrive', force_remount=True)\n",
        "# монтируем гугл диск"
      ],
      "execution_count": 0,
      "outputs": []
    },
    {
      "cell_type": "code",
      "metadata": {
        "id": "HsJ6cGYoNbcA",
        "colab_type": "code",
        "outputId": "0287e2de-37b6-453a-ce1c-feabf5794368",
        "colab": {
          "base_uri": "https://localhost:8080/",
          "height": 34
        }
      },
      "source": [
        "# копируем и разархивируем файлы в colab\n",
        "! cp /content/gdrive/'My Drive'/Mouse/dataset.zip . # тут точка!\n",
        "! unzip -q dataset\n",
        "! rm dataset.zip\n",
        "! ls"
      ],
      "execution_count": 0,
      "outputs": [
        {
          "output_type": "stream",
          "text": [
            "dataset  gdrive  sample_data\n"
          ],
          "name": "stdout"
        }
      ]
    },
    {
      "cell_type": "markdown",
      "metadata": {
        "id": "Aw35_qMvNe0C",
        "colab_type": "text"
      },
      "source": [
        "### import\n",
        "---"
      ]
    },
    {
      "cell_type": "code",
      "metadata": {
        "id": "WmxfadQoNf3S",
        "colab_type": "code",
        "colab": {}
      },
      "source": [
        "from tensorflow.keras.models import Sequential, Model, save_model, load_model\n",
        "from tensorflow.keras.layers import (Dense, BatchNormalization, Dropout,\n",
        "                                     Input, ReLU, ELU, Softmax)\n",
        "from tensorflow.keras.optimizers import Adam\n",
        "from tensorflow.keras.metrics import AUC\n",
        "from tensorflow.keras.losses import mean_squared_error\n",
        "from tensorflow.keras.utils import plot_model\n",
        "from tensorflow.keras.callbacks import ModelCheckpoint, CSVLogger\n",
        "import tensorflow.keras.backend as K\n",
        "import matplotlib.pyplot as plt\n",
        "import pandas as pd\n",
        "import numpy as np\n",
        "import glob\n",
        "import os"
      ],
      "execution_count": 0,
      "outputs": []
    },
    {
      "cell_type": "markdown",
      "metadata": {
        "id": "mdgdlZh_Nb8x",
        "colab_type": "text"
      },
      "source": [
        "### global\n",
        "---"
      ]
    },
    {
      "cell_type": "code",
      "metadata": {
        "id": "KJRwz7oFNdep",
        "colab_type": "code",
        "colab": {}
      },
      "source": [
        "N_EXPERIMENT = 1\n",
        "\n",
        "MODEL_NAME = f'{N_EXPERIMENT}_mouse_model'\n",
        "WEIGHT_NAME = f'{N_EXPERIMENT}_mouse_weight'\n",
        "LOG_NAME = f'{N_EXPERIMENT}_training_log.csv'\n",
        "GDRIVE_PATH = f'./gdrive/My Drive/Mouse/{N_EXPERIMENT}'\n",
        "CHECKPOINT_PATH = f'{GDRIVE_PATH}/{WEIGHT_NAME}''_{epoch:03d}_loss-{loss:.3f}_valloss-{val_loss:.3f}.h5'\n",
        "N_FEATURES = (79,)\n",
        "BATCH_SIZE = 64"
      ],
      "execution_count": 0,
      "outputs": []
    },
    {
      "cell_type": "markdown",
      "metadata": {
        "id": "V6B6gvB3NgRX",
        "colab_type": "text"
      },
      "source": [
        "### load data\n",
        "---"
      ]
    },
    {
      "cell_type": "code",
      "metadata": {
        "id": "FyeWnK5CZRjO",
        "colab_type": "code",
        "colab": {}
      },
      "source": [
        "from sklearn.preprocessing import StandardScaler"
      ],
      "execution_count": 0,
      "outputs": []
    },
    {
      "cell_type": "code",
      "metadata": {
        "id": "Y6OT_0GPNhfz",
        "colab_type": "code",
        "colab": {}
      },
      "source": [
        "def load_data(dataset: str,\n",
        "              username: str,\n",
        "              session: str,\n",
        "              mode: str):\n",
        "    if (mode != 'train') and (mode != 'test'):\n",
        "        print(f\"[Warning]: Invalid parameter <mode>: {mode}\",\n",
        "              f\"           available: 'train', 'test'\")\n",
        "        exit(-1)\n",
        "    \n",
        "    X = None\n",
        "    for path in glob.glob(f\"./dataset/{dataset}/{mode}_features/user*\"):\n",
        "        session_path = os.path.join(path, session)\n",
        "        features = pd.read_csv(session_path, sep=',', header=None).values\n",
        "        X = np.vstack((X, features)) if X is not None else features\n",
        "\n",
        "    X = StandardScaler().fit_transform(X)\n",
        "\n",
        "    return X, X.copy()"
      ],
      "execution_count": 0,
      "outputs": []
    },
    {
      "cell_type": "code",
      "metadata": {
        "id": "Ml9W7-28VLLM",
        "colab_type": "code",
        "colab": {}
      },
      "source": [
        "DATASET = 'BALABIT'\n",
        "USERNAME = 'user07'\n",
        "SESSION = 'session_all'"
      ],
      "execution_count": 0,
      "outputs": []
    },
    {
      "cell_type": "code",
      "metadata": {
        "id": "oK9b0QniOEV7",
        "colab_type": "code",
        "colab": {}
      },
      "source": [
        "X, y = load_data(DATASET, USERNAME, SESSION, mode='train')\n",
        "X_test, y_test = load_data(DATASET, USERNAME, SESSION, mode='test')\n",
        "\n",
        "N_FEATURES= (X.shape[1], )\n",
        "print(f\"train: {X.shape}\")\n",
        "print(f\"test : {X_test.shape}\")"
      ],
      "execution_count": 0,
      "outputs": []
    },
    {
      "cell_type": "markdown",
      "metadata": {
        "id": "m5qDbZDYOx9U",
        "colab_type": "text"
      },
      "source": [
        "### model\n",
        "---"
      ]
    },
    {
      "cell_type": "code",
      "metadata": {
        "id": "0uZSG4g6OzeQ",
        "colab_type": "code",
        "colab": {}
      },
      "source": [
        "def get_model(input_shape):\n",
        "    i = Input(shape=input_shape)\n",
        "    d = Dense(units=64, activation=ELU())(i)\n",
        "    # d = Dense(units=64, activation=ELU())(d)\n",
        "    # d = Dropout(rate=0.1)(d)\n",
        "    d = Dense(units=32, activation=ELU())(d)\n",
        "    # d = Dense(units=32, activation=ELU())(d)\n",
        "    # d = Dropout(rate=0.1)(d)\n",
        "\n",
        "    m = Dense(units=16, activation=ELU())(d)\n",
        "    # m = Dense(units=16, activation=ELU())(m)\n",
        "\n",
        "    u = Dense(units=32, activation=ELU())(m)\n",
        "    # u = Dense(units=32, activation=ELU())(u)\n",
        "    # u = Dropout(rate=0.1)(u)\n",
        "    u = Dense(units=64, activation=ELU())(u)\n",
        "    # u = Dense(units=64, activation=ELU())(u)\n",
        "    o = Dense(units=input_shape[0])(u)\n",
        "\n",
        "    encoder_decoder = Model(inputs=i, outputs=o, name=\"ED\")\n",
        "    return encoder_decoder"
      ],
      "execution_count": 0,
      "outputs": []
    },
    {
      "cell_type": "code",
      "metadata": {
        "id": "0gGmSRMP5QQ2",
        "colab_type": "code",
        "colab": {}
      },
      "source": [
        "def get_model(input_shape):\n",
        "    i = Input(shape=input_shape)\n",
        "    d = Dense(units=64, activation=ELU())(i)\n",
        "    m = Dense(units=32, activation=ELU())(d)\n",
        "    u = Dense(units=64, activation=ELU())(m)\n",
        "    o = Dense(units=input_shape[0])(u)\n",
        "\n",
        "    encoder_decoder = Model(inputs=i, outputs=o, name=\"ED\")\n",
        "    return encoder_decoder"
      ],
      "execution_count": 0,
      "outputs": []
    },
    {
      "cell_type": "markdown",
      "metadata": {
        "id": "Fvqt8aZRVco9",
        "colab_type": "text"
      },
      "source": [
        "### Compile\n",
        "---\n"
      ]
    },
    {
      "cell_type": "code",
      "metadata": {
        "id": "mhVWz951O0Bz",
        "colab_type": "code",
        "colab": {}
      },
      "source": [
        "model = get_model(N_FEATURES)\n",
        "model.summary()"
      ],
      "execution_count": 0,
      "outputs": []
    },
    {
      "cell_type": "code",
      "metadata": {
        "id": "mVJgc-stO4Ah",
        "colab_type": "code",
        "colab": {}
      },
      "source": [
        "model.compile(optimizer=Adam(lr=0.001),\n",
        "              loss=mean_squared_error)"
      ],
      "execution_count": 0,
      "outputs": []
    },
    {
      "cell_type": "markdown",
      "metadata": {
        "id": "ZDBFUGsoNiRX",
        "colab_type": "text"
      },
      "source": [
        "### fit\n",
        "---"
      ]
    },
    {
      "cell_type": "code",
      "metadata": {
        "id": "jFjlkKOeNjY4",
        "colab_type": "code",
        "colab": {}
      },
      "source": [
        "# CALLBACKS\n",
        "checkpointer = ModelCheckpoint(filepath=CHECKPOINT_PATH, monitor='val_loss',\n",
        "                               verbose=1, save_best_only=True,\n",
        "                               save_weights_only=True, mode='min')\n",
        "logger = CSVLogger(LOG_NAME)"
      ],
      "execution_count": 0,
      "outputs": []
    },
    {
      "cell_type": "code",
      "metadata": {
        "id": "CbH9qnW-O7V5",
        "colab_type": "code",
        "colab": {}
      },
      "source": [
        "model.fit(X, y,\n",
        "          batch_size=16,\n",
        "          epochs=10,\n",
        "          verbose=1,\n",
        "          # callbacks=[logger, checkpointer],\n",
        "          validation_data=(X_test, y_test))\n",
        "..."
      ],
      "execution_count": 0,
      "outputs": []
    },
    {
      "cell_type": "code",
      "metadata": {
        "id": "aD4OukQNlR7U",
        "colab_type": "code",
        "colab": {}
      },
      "source": [
        "X_valid = pd.read_csv(f\"./dataset/{dataset}/{mode}_features/{username}/{session}\", sep=',', header=None).values\n",
        "X_valid = StandardScaler().fit_transform(X_valid)"
      ],
      "execution_count": 0,
      "outputs": []
    },
    {
      "cell_type": "code",
      "metadata": {
        "id": "_Djd87GoYfbp",
        "colab_type": "code",
        "colab": {}
      },
      "source": [
        "model.predict(X_valid)"
      ],
      "execution_count": 0,
      "outputs": []
    }
  ]
}